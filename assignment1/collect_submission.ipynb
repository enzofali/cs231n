{
 "cells": [
  {
   "cell_type": "code",
   "execution_count": null,
   "id": "81824ab8",
   "metadata": {},
   "outputs": [],
   "source": [
    "import sys\n",
    "\n",
    "if 'google.colab' in sys.modules:\n",
    "    print('Running on CoLab')\n",
    "\n",
    "    from google.colab import drive\n",
    "\n",
    "    drive.mount('/content/drive')\n",
    "\n",
    "    # TODO: Enter the path in your Drive of the assignment.\n",
    "    # e.g. 'cs231n/assignments/assignment1/'\n",
    "    FOLDERNAME = None\n",
    "\n",
    "    assert FOLDERNAME is not None, \"[!] Enter the foldername.\"\n",
    "\n",
    "else:\n",
    "    print('Not running on CoLab')\n",
    "    FOLDERNAME = \"./\""
   ]
  },
  {
   "cell_type": "markdown",
   "id": "6be91a6a",
   "metadata": {},
   "source": [
    "# Collect Submission - Zip + Generate PDF \n",
    "\n",
    "Run this notebook once you have completed all the other notebooks: `knn.ipynb`, `softmax.ipynb`, `two_layer_net.ipynb` and `features.ipynb`.\n",
    "\n",
    "It will:\n",
    "\n",
    "* Generate a zip file of your code (`.py` and `.ipynb`) called `a1_code_submission.zip`.\n",
    "* Convert all notebooks into a single PDF file called `a1_inline_submission.pdf`.\n",
    "\n",
    "If your submission for this step was successful, you should see the following display message:\n",
    "\n",
    "`### Done! Please submit a1_code_submission.zip and a1_inline_submission.pdf to EVA. ###`\n",
    "\n",
    "Make sure to download the zip and pdf file locally to your computer, then submit to Gradescope. Congrats on succesfully completing the assignment!"
   ]
  },
  {
   "cell_type": "code",
   "execution_count": null,
   "id": "aa146f82",
   "metadata": {},
   "outputs": [],
   "source": [
    "if \"google.colab\" in sys.modules:\n",
    "    %cd drive/My\\ Drive\n",
    "    %cd $FOLDERNAME\n",
    "    !sudo apt-get install texlive-xetex texlive-fonts-recommended texlive-plain-generic\n",
    "    !pip install PyPDF2\n",
    "    !bash collectSubmission.sh\n",
    "else:\n",
    "    !pip install PyPDF2\n",
    "    !bash collectSubmission.sh"
   ]
  }
 ],
 "metadata": {
  "kernelspec": {
   "display_name": "dlvis",
   "language": "python",
   "name": "python3"
  },
  "language_info": {
   "name": "python",
   "version": "3.7.16"
  }
 },
 "nbformat": 4,
 "nbformat_minor": 5
}
